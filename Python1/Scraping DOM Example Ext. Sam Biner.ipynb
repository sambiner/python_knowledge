{
 "cells": [
  {
   "cell_type": "code",
   "execution_count": 1,
   "id": "a9ca629f",
   "metadata": {},
   "outputs": [],
   "source": [
    "# Importing all relevant libraries\n",
    "from bs4 import BeautifulSoup\n",
    "import requests\n",
    "import pandas as pd"
   ]
  },
  {
   "cell_type": "code",
   "execution_count": 2,
   "id": "9e0cc54b",
   "metadata": {},
   "outputs": [],
   "source": [
    "# Defining the URL to be scraped\n",
    "url = 'https://lontok.lmu.build/sql/dom_example_extended.html'\n",
    "\n",
    "#Send a get request to the URL\n",
    "extended_request = requests.get(url)\n",
    "\n",
    "# Check the status code of the request; ensure it is 200\n",
    "extended_request\n",
    "\n",
    "# Create a BeautifulSoup object from the HTML content\n",
    "soup = BeautifulSoup(extended_request.text, 'html.parser')\n",
    "\n",
    "# Print the prettified content\n",
    "print(soup.prettify())\n",
    "\n",
    "# Get the text of the first H1 element with id \"site_title\"\n",
    "soup.find('h1', attrs={'id':'site_title'}).text\n",
    "\n",
    "# Get the first div element with class \"video\"\n",
    "soup.find('div', attrs={'class':'video'})\n",
    "\n",
    "# Get a list of all div elements with class \"video\"\n",
    "div_class_list = soup.findAll('div', attrs={'class':'video'})\n",
    "\n",
    "# Get a list of all anchor tags\n",
    "videos = soup.findAll('a')\n",
    "\n",
    "# Create an empty dictionary to store the video details\n",
    "video_dict = {\n",
    "    'text' : [],\n",
    "    'url' : []\n",
    "}\n",
    "\n",
    "# Loop through each video in the list\n",
    "for video in videos:\n",
    "    # Print the video tag\n",
    "    print(video)\n",
    "    \n",
    "    # Print the video text\n",
    "    print(video.text)\n",
    "    # Append this text to the empty dictionary\n",
    "    video_dict['text'].append(video.text)\n",
    "    \n",
    "    # Print the video link\n",
    "    print(video['href'])\n",
    "    # Append this video link to the empty dictionary\n",
    "    video_dict['url'].append(video['href'])\n",
    "    \n",
    "    # Print the dictionary to ensure we correctly added the data\n",
    "    print(video_dict)\n",
    "    \n",
    "# Create a Pandas DataFrame from the dictionary\n",
    "df = pd.DataFrame(video_dict)\n",
    "\n",
    "# Print out the DataFrame\n",
    "df\n",
    "\n",
    "# Convert the DataFrame to a CSV file\n",
    "df.to_csv('video_details.csv', index=False)"
   ]
  }
 ],
 "metadata": {
  "kernelspec": {
   "display_name": "Python 3 (ipykernel)",
   "language": "python",
   "name": "python3"
  },
  "language_info": {
   "codemirror_mode": {
    "name": "ipython",
    "version": 3
   },
   "file_extension": ".py",
   "mimetype": "text/x-python",
   "name": "python",
   "nbconvert_exporter": "python",
   "pygments_lexer": "ipython3",
   "version": "3.9.15"
  }
 },
 "nbformat": 4,
 "nbformat_minor": 5
}
