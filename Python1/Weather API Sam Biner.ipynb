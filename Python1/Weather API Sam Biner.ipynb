{
 "cells": [
  {
   "cell_type": "code",
   "execution_count": 2,
   "id": "51c93786",
   "metadata": {
    "collapsed": true
   },
   "outputs": [
    {
     "name": "stdout",
     "output_type": "stream",
     "text": [
      "Requirement already satisfied: requests in c:\\users\\sambi\\anaconda3\\envs\\isba_4715_sql\\lib\\site-packages (2.28.1)\n",
      "Requirement already satisfied: idna<4,>=2.5 in c:\\users\\sambi\\anaconda3\\envs\\isba_4715_sql\\lib\\site-packages (from requests) (3.4)\n",
      "Requirement already satisfied: certifi>=2017.4.17 in c:\\users\\sambi\\anaconda3\\envs\\isba_4715_sql\\lib\\site-packages (from requests) (2022.12.7)\n",
      "Requirement already satisfied: urllib3<1.27,>=1.21.1 in c:\\users\\sambi\\anaconda3\\envs\\isba_4715_sql\\lib\\site-packages (from requests) (1.26.13)\n",
      "Requirement already satisfied: charset-normalizer<3,>=2 in c:\\users\\sambi\\anaconda3\\envs\\isba_4715_sql\\lib\\site-packages (from requests) (2.0.4)\n"
     ]
    }
   ],
   "source": [
    "# Import package to make HTTP requests like fetch URL (similar to browser request)\n",
    "!pip install requests\n",
    "import requests"
   ]
  },
  {
   "cell_type": "code",
   "execution_count": 4,
   "id": "71fbda05",
   "metadata": {},
   "outputs": [],
   "source": [
    "# Import json library to decode the JSON from the API request\n",
    "import json"
   ]
  },
  {
   "cell_type": "code",
   "execution_count": 6,
   "id": "6edf9209",
   "metadata": {
    "collapsed": true
   },
   "outputs": [
    {
     "data": {
      "text/plain": [
       "<Response [200]>"
      ]
     },
     "execution_count": 6,
     "metadata": {},
     "output_type": "execute_result"
    }
   ],
   "source": [
    "api_url = \"https://api.weatherapi.com/v1/current.json\"\n",
    "# key=5cd1b6532aee4ee7890175158231101&q=90045\n",
    "params = {'key': '5cd1b6532aee4ee7890175158231101', 'q':'90045'}\n",
    "\n",
    "# Make the API request\n",
    "api_request = requests.get(api_url, params=params)\n",
    "\n",
    "# Check what is inside the variable\n",
    "api_request"
   ]
  },
  {
   "cell_type": "code",
   "execution_count": 7,
   "id": "1f4b7ce1",
   "metadata": {
    "collapsed": true
   },
   "outputs": [
    {
     "data": {
      "text/plain": [
       "'{\"location\":{\"name\":\"Los Angeles\",\"region\":\"California\",\"country\":\"USA\",\"lat\":33.96,\"lon\":-118.4,\"tz_id\":\"America/Los_Angeles\",\"localtime_epoch\":1673829350,\"localtime\":\"2023-01-15 16:35\"},\"current\":{\"last_updated_epoch\":1673829000,\"last_updated\":\"2023-01-15 16:30\",\"temp_c\":15.0,\"temp_f\":59.0,\"is_day\":1,\"condition\":{\"text\":\"Overcast\",\"icon\":\"//cdn.weatherapi.com/weather/64x64/day/122.png\",\"code\":1009},\"wind_mph\":5.6,\"wind_kph\":9.0,\"wind_degree\":210,\"wind_dir\":\"SSW\",\"pressure_mb\":1010.0,\"pressure_in\":29.83,\"precip_mm\":0.0,\"precip_in\":0.0,\"humidity\":69,\"cloud\":100,\"feelslike_c\":13.8,\"feelslike_f\":56.8,\"vis_km\":16.0,\"vis_miles\":9.0,\"uv\":4.0,\"gust_mph\":13.9,\"gust_kph\":22.3}}'"
      ]
     },
     "execution_count": 7,
     "metadata": {},
     "output_type": "execute_result"
    }
   ],
   "source": [
    "api_request.text"
   ]
  },
  {
   "cell_type": "code",
   "execution_count": 10,
   "id": "ffd3d757",
   "metadata": {},
   "outputs": [
    {
     "data": {
      "text/plain": [
       "str"
      ]
     },
     "execution_count": 10,
     "metadata": {},
     "output_type": "execute_result"
    }
   ],
   "source": [
    "type(api_request.text)"
   ]
  },
  {
   "cell_type": "code",
   "execution_count": 11,
   "id": "b6021150",
   "metadata": {
    "collapsed": true
   },
   "outputs": [
    {
     "data": {
      "text/plain": [
       "{'location': {'name': 'Los Angeles',\n",
       "  'region': 'California',\n",
       "  'country': 'USA',\n",
       "  'lat': 33.96,\n",
       "  'lon': -118.4,\n",
       "  'tz_id': 'America/Los_Angeles',\n",
       "  'localtime_epoch': 1673829350,\n",
       "  'localtime': '2023-01-15 16:35'},\n",
       " 'current': {'last_updated_epoch': 1673829000,\n",
       "  'last_updated': '2023-01-15 16:30',\n",
       "  'temp_c': 15.0,\n",
       "  'temp_f': 59.0,\n",
       "  'is_day': 1,\n",
       "  'condition': {'text': 'Overcast',\n",
       "   'icon': '//cdn.weatherapi.com/weather/64x64/day/122.png',\n",
       "   'code': 1009},\n",
       "  'wind_mph': 5.6,\n",
       "  'wind_kph': 9.0,\n",
       "  'wind_degree': 210,\n",
       "  'wind_dir': 'SSW',\n",
       "  'pressure_mb': 1010.0,\n",
       "  'pressure_in': 29.83,\n",
       "  'precip_mm': 0.0,\n",
       "  'precip_in': 0.0,\n",
       "  'humidity': 69,\n",
       "  'cloud': 100,\n",
       "  'feelslike_c': 13.8,\n",
       "  'feelslike_f': 56.8,\n",
       "  'vis_km': 16.0,\n",
       "  'vis_miles': 9.0,\n",
       "  'uv': 4.0,\n",
       "  'gust_mph': 13.9,\n",
       "  'gust_kph': 22.3}}"
      ]
     },
     "execution_count": 11,
     "metadata": {},
     "output_type": "execute_result"
    }
   ],
   "source": [
    "json.loads(api_request.text)"
   ]
  },
  {
   "cell_type": "code",
   "execution_count": 12,
   "id": "9cb579ac",
   "metadata": {
    "collapsed": true
   },
   "outputs": [
    {
     "data": {
      "text/plain": [
       "dict"
      ]
     },
     "execution_count": 12,
     "metadata": {},
     "output_type": "execute_result"
    }
   ],
   "source": [
    "type(json.loads(api_request.text))"
   ]
  },
  {
   "cell_type": "code",
   "execution_count": 14,
   "id": "72ad5532",
   "metadata": {
    "collapsed": true
   },
   "outputs": [
    {
     "data": {
      "text/plain": [
       "{'location': {'name': 'Los Angeles',\n",
       "  'region': 'California',\n",
       "  'country': 'USA',\n",
       "  'lat': 33.96,\n",
       "  'lon': -118.4,\n",
       "  'tz_id': 'America/Los_Angeles',\n",
       "  'localtime_epoch': 1673829350,\n",
       "  'localtime': '2023-01-15 16:35'},\n",
       " 'current': {'last_updated_epoch': 1673829000,\n",
       "  'last_updated': '2023-01-15 16:30',\n",
       "  'temp_c': 15.0,\n",
       "  'temp_f': 59.0,\n",
       "  'is_day': 1,\n",
       "  'condition': {'text': 'Overcast',\n",
       "   'icon': '//cdn.weatherapi.com/weather/64x64/day/122.png',\n",
       "   'code': 1009},\n",
       "  'wind_mph': 5.6,\n",
       "  'wind_kph': 9.0,\n",
       "  'wind_degree': 210,\n",
       "  'wind_dir': 'SSW',\n",
       "  'pressure_mb': 1010.0,\n",
       "  'pressure_in': 29.83,\n",
       "  'precip_mm': 0.0,\n",
       "  'precip_in': 0.0,\n",
       "  'humidity': 69,\n",
       "  'cloud': 100,\n",
       "  'feelslike_c': 13.8,\n",
       "  'feelslike_f': 56.8,\n",
       "  'vis_km': 16.0,\n",
       "  'vis_miles': 9.0,\n",
       "  'uv': 4.0,\n",
       "  'gust_mph': 13.9,\n",
       "  'gust_kph': 22.3}}"
      ]
     },
     "execution_count": 14,
     "metadata": {},
     "output_type": "execute_result"
    }
   ],
   "source": [
    "api_response = json.loads(api_request.text)\n",
    "\n",
    "# Checking if the variable worked\n",
    "api_response"
   ]
  },
  {
   "cell_type": "code",
   "execution_count": 19,
   "id": "5b9a9c4f",
   "metadata": {
    "collapsed": true
   },
   "outputs": [
    {
     "data": {
      "text/plain": [
       "59.0"
      ]
     },
     "execution_count": 19,
     "metadata": {},
     "output_type": "execute_result"
    }
   ],
   "source": [
    "# Get the current temperature in Fahrenheit for 90045 zipcode\n",
    "api_response['current']['temp_f']\n"
   ]
  },
  {
   "cell_type": "code",
   "execution_count": 18,
   "id": "760e3d6a",
   "metadata": {
    "collapsed": true
   },
   "outputs": [
    {
     "data": {
      "text/plain": [
       "'Overcast'"
      ]
     },
     "execution_count": 18,
     "metadata": {},
     "output_type": "execute_result"
    }
   ],
   "source": [
    "# Get the condition text for 90045 zipcode\n",
    "api_response['current']['condition']['text']"
   ]
  }
 ],
 "metadata": {
  "kernelspec": {
   "display_name": "Python 3 (ipykernel)",
   "language": "python",
   "name": "python3"
  },
  "language_info": {
   "codemirror_mode": {
    "name": "ipython",
    "version": 3
   },
   "file_extension": ".py",
   "mimetype": "text/x-python",
   "name": "python",
   "nbconvert_exporter": "python",
   "pygments_lexer": "ipython3",
   "version": "3.9.15"
  }
 },
 "nbformat": 4,
 "nbformat_minor": 5
}
